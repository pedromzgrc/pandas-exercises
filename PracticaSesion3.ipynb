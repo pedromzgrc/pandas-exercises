{
 "cells": [
  {
   "cell_type": "code",
   "execution_count": 1,
   "metadata": {},
   "outputs": [],
   "source": [
    "%run utils.ipynb"
   ]
  },
  {
   "cell_type": "code",
   "execution_count": 2,
   "metadata": {},
   "outputs": [],
   "source": [
    "def unificar_bdd(notas):\n",
    "    \"\"\"\n",
    "    Unificar los dataframes del diccionario de notas en uno único\n",
    "    \n",
    "    PUNTUACIÓN: 2 PUNTOS\n",
    "    \n",
    "    Recibe:\n",
    "        notas: Diccionario con las notas, donde la clave es el nombre\n",
    "               del archivo desde que se ha cargado y el valor el \n",
    "               dataframe con los datos\n",
    "               \n",
    "    Devuelve:\n",
    "        Un único dataframe con todos los datos\n",
    "    \"\"\"\n",
    "    \n",
    "    # RELLENAR CÓDIGO AQUÍ"
   ]
  },
  {
   "cell_type": "code",
   "execution_count": 3,
   "metadata": {},
   "outputs": [],
   "source": [
    "def media_asignatura_curso(notas):\n",
    "    \"\"\"\n",
    "    Nota media por cada asignatura para cada curso (P.E. 1º Bachillerato arte) de la \n",
    "    convocatoria ordinaria (no tienen en cuenta las extraordinarias)\n",
    "    \n",
    "    PUNTUACIÓN: 2 PUNTOS\n",
    "    \n",
    "    Recibe: \n",
    "        notas: Dataframe con todas las notas\n",
    "        \n",
    "    Devuelve:\n",
    "        Dataframe con las medias para todas las asignaturas para cada curso\n",
    "    \"\"\"\n",
    "    \n",
    "    # RELLENAR CÓDIGO AQUÍ"
   ]
  },
  {
   "cell_type": "code",
   "execution_count": 4,
   "metadata": {},
   "outputs": [],
   "source": [
    "def num_suspensos(notas):\n",
    "    \"\"\"\n",
    "        Número de suspensos por asignatura.\n",
    "        \n",
    "        PUNTUACIÓN: 2 PUNTOS\n",
    "        \n",
    "        Recibe:\n",
    "            notas: Dataframe con todas las notas\n",
    "            \n",
    "        Devuelve:\n",
    "            Dataframe con el número de suspensos por asignatura\n",
    "    \"\"\"\n",
    "    \n",
    "    # RELLENAR CÓDIGO AQUÍ"
   ]
  },
  {
   "cell_type": "code",
   "execution_count": 5,
   "metadata": {},
   "outputs": [],
   "source": [
    "def nota_media_alumno(notas):\n",
    "    \"\"\"\n",
    "    Añadir columna con la nota media del curso para cada alumno para \n",
    "    la convocatoria ordinaria (no tener en cuenta la extraordinaria).\n",
    "    \n",
    "    PUNTUACIÓN: 2 PUNTOS\n",
    "    \n",
    "    Recibe:\n",
    "        notas: Dataframe con todas las notas\n",
    "\n",
    "    Devuelve:\n",
    "        Dataframe con todas las columnas originales, así como una \n",
    "        nueva con la nota media para las notas de las convocatorias \n",
    "        ordinarias (no extraordinarias)\n",
    "    \"\"\"\n",
    "    \n",
    "    # RELLENAR CÓDIGO AQUÍ"
   ]
  },
  {
   "cell_type": "code",
   "execution_count": 6,
   "metadata": {},
   "outputs": [],
   "source": [
    "def aprobados_extra(notas):\n",
    "    \"\"\"\n",
    "    Lista de personas que han aprobado los exámenes de la convocatoria extraordinaria.\n",
    "    \n",
    "    PUNTUACIÓN: 2 PUNTOS\n",
    "    \n",
    "    Recibe:\n",
    "        notas: Dataframe con todas las notas\n",
    "\n",
    "    Devuelve:\n",
    "        Dataframe con todas las columnas originales, pero solo de aquellos alumnos que hayan aprobado \n",
    "        TODAS las asignaturas a las que se han presentado en la convocatoria extraordinaria\n",
    "    \"\"\"\n",
    "    \n",
    "    # RELLENAR CÓDIGO AQUÍ\n",
    "    "
   ]
  }
 ],
 "metadata": {
  "kernelspec": {
   "display_name": "Python 3",
   "language": "python",
   "name": "python3"
  },
  "language_info": {
   "codemirror_mode": {
    "name": "ipython",
    "version": 3
   },
   "file_extension": ".py",
   "mimetype": "text/x-python",
   "name": "python",
   "nbconvert_exporter": "python",
   "pygments_lexer": "ipython3",
   "version": "3.7.0"
  }
 },
 "nbformat": 4,
 "nbformat_minor": 2
}
